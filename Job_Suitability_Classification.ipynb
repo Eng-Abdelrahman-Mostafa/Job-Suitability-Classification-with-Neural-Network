{
 "cells": [
  {
   "metadata": {},
   "cell_type": "markdown",
   "source": "<h1>Job Suitability (Classification)</h1>\n",
   "id": "66fbaaeb02f20615"
  },
  {
   "metadata": {
    "ExecuteTime": {
     "end_time": "2024-12-07T01:49:28.999228Z",
     "start_time": "2024-12-07T01:49:28.995283Z"
    }
   },
   "cell_type": "code",
   "source": [
    "import pandas as pd\n",
    "import matplotlib.pyplot as plt\n",
    "import numpy as np\n",
    "%matplotlib inline"
   ],
   "id": "56ce4f13a0e5b825",
   "outputs": [],
   "execution_count": 80
  },
  {
   "metadata": {},
   "cell_type": "markdown",
   "source": "<h2>1. Bring a dataset relevant to the project idea domain :</h2>",
   "id": "82f834cb14e81177"
  },
  {
   "metadata": {
    "ExecuteTime": {
     "end_time": "2024-12-07T01:56:44.530891Z",
     "start_time": "2024-12-07T01:56:44.499828Z"
    }
   },
   "cell_type": "code",
   "source": [
    "# df=pd.read_csv('Data/Updated_Data_with_Interview_Performance_new.csv')\n",
    "df=pd.read_csv('Data/Updated_Data_with_Interview_Performance.csv')\n",
    "# df=pd.read_csv('Data/job_dataset_new.csv')\n",
    "df.head()"
   ],
   "id": "ddff5c977422c08d",
   "outputs": [
    {
     "data": {
      "text/plain": [
       "   user_id               qualifications  experience_years  course_grades  \\\n",
       "0        1     Python;Data Analysis;SQL                 3          75.26   \n",
       "1        2                         Java                 4          74.25   \n",
       "2        3                Data Analysis                 2          74.89   \n",
       "3        4                Data Analysis                 4          72.73   \n",
       "4        5  Machine Learning;Python;C++                 4          84.85   \n",
       "\n",
       "   projects_completed  extracurriculars  is_suitable  interview_performance  \n",
       "0                   9                 0            1               3.560162  \n",
       "1                   6                 2            1               3.831404  \n",
       "2                   4                 3            0               2.692920  \n",
       "3                   2                 3            1               3.277853  \n",
       "4                   1                 4            0               3.043286  "
      ],
      "text/html": [
       "<div>\n",
       "<style scoped>\n",
       "    .dataframe tbody tr th:only-of-type {\n",
       "        vertical-align: middle;\n",
       "    }\n",
       "\n",
       "    .dataframe tbody tr th {\n",
       "        vertical-align: top;\n",
       "    }\n",
       "\n",
       "    .dataframe thead th {\n",
       "        text-align: right;\n",
       "    }\n",
       "</style>\n",
       "<table border=\"1\" class=\"dataframe\">\n",
       "  <thead>\n",
       "    <tr style=\"text-align: right;\">\n",
       "      <th></th>\n",
       "      <th>user_id</th>\n",
       "      <th>qualifications</th>\n",
       "      <th>experience_years</th>\n",
       "      <th>course_grades</th>\n",
       "      <th>projects_completed</th>\n",
       "      <th>extracurriculars</th>\n",
       "      <th>is_suitable</th>\n",
       "      <th>interview_performance</th>\n",
       "    </tr>\n",
       "  </thead>\n",
       "  <tbody>\n",
       "    <tr>\n",
       "      <th>0</th>\n",
       "      <td>1</td>\n",
       "      <td>Python;Data Analysis;SQL</td>\n",
       "      <td>3</td>\n",
       "      <td>75.26</td>\n",
       "      <td>9</td>\n",
       "      <td>0</td>\n",
       "      <td>1</td>\n",
       "      <td>3.560162</td>\n",
       "    </tr>\n",
       "    <tr>\n",
       "      <th>1</th>\n",
       "      <td>2</td>\n",
       "      <td>Java</td>\n",
       "      <td>4</td>\n",
       "      <td>74.25</td>\n",
       "      <td>6</td>\n",
       "      <td>2</td>\n",
       "      <td>1</td>\n",
       "      <td>3.831404</td>\n",
       "    </tr>\n",
       "    <tr>\n",
       "      <th>2</th>\n",
       "      <td>3</td>\n",
       "      <td>Data Analysis</td>\n",
       "      <td>2</td>\n",
       "      <td>74.89</td>\n",
       "      <td>4</td>\n",
       "      <td>3</td>\n",
       "      <td>0</td>\n",
       "      <td>2.692920</td>\n",
       "    </tr>\n",
       "    <tr>\n",
       "      <th>3</th>\n",
       "      <td>4</td>\n",
       "      <td>Data Analysis</td>\n",
       "      <td>4</td>\n",
       "      <td>72.73</td>\n",
       "      <td>2</td>\n",
       "      <td>3</td>\n",
       "      <td>1</td>\n",
       "      <td>3.277853</td>\n",
       "    </tr>\n",
       "    <tr>\n",
       "      <th>4</th>\n",
       "      <td>5</td>\n",
       "      <td>Machine Learning;Python;C++</td>\n",
       "      <td>4</td>\n",
       "      <td>84.85</td>\n",
       "      <td>1</td>\n",
       "      <td>4</td>\n",
       "      <td>0</td>\n",
       "      <td>3.043286</td>\n",
       "    </tr>\n",
       "  </tbody>\n",
       "</table>\n",
       "</div>"
      ]
     },
     "execution_count": 96,
     "metadata": {},
     "output_type": "execute_result"
    }
   ],
   "execution_count": 96
  },
  {
   "metadata": {},
   "cell_type": "markdown",
   "source": "<h2>2. Perform data preprocessing on the dataset :</h2>",
   "id": "f81c91673de9fcf8"
  },
  {
   "metadata": {
    "ExecuteTime": {
     "end_time": "2024-12-07T01:56:46.375661Z",
     "start_time": "2024-12-07T01:56:46.370845Z"
    }
   },
   "cell_type": "code",
   "source": [
    "# Drop unimportant columns\n",
    "df.drop('user_id',axis='columns',inplace=True)"
   ],
   "id": "ece3c85fe32c3ee0",
   "outputs": [],
   "execution_count": 97
  },
  {
   "metadata": {
    "ExecuteTime": {
     "end_time": "2024-12-07T01:56:47.878089Z",
     "start_time": "2024-12-07T01:56:47.830641Z"
    }
   },
   "cell_type": "code",
   "source": [
    "# Encode Categorical Data (qualifications column)\n",
    "from sklearn.preprocessing import MultiLabelBinarizer\n",
    "\n",
    "df['qualifications_split'] = df['qualifications'].apply(lambda x: x.split(';'))\n",
    "mlb = MultiLabelBinarizer()\n",
    "skills_encoded = pd.DataFrame(mlb.fit_transform(df['qualifications_split']), columns=mlb.classes_)\n",
    "\n",
    "# Concatenate back to original dataframe\n",
    "df = pd.concat([df, skills_encoded], axis=1).drop(['qualifications', 'qualifications_split'], axis=1)\n",
    "df.head()\n"
   ],
   "id": "93b070a853e40b30",
   "outputs": [
    {
     "data": {
      "text/plain": [
       "   experience_years  course_grades  projects_completed  extracurriculars  \\\n",
       "0                 3          75.26                   9                 0   \n",
       "1                 4          74.25                   6                 2   \n",
       "2                 2          74.89                   4                 3   \n",
       "3                 4          72.73                   2                 3   \n",
       "4                 4          84.85                   1                 4   \n",
       "\n",
       "   is_suitable  interview_performance  C++  Data Analysis  Java  \\\n",
       "0            1               3.560162    0              1     0   \n",
       "1            1               3.831404    0              0     1   \n",
       "2            0               2.692920    0              1     0   \n",
       "3            1               3.277853    0              1     0   \n",
       "4            0               3.043286    1              0     0   \n",
       "\n",
       "   Machine Learning  Python  SQL  \n",
       "0                 0       1    1  \n",
       "1                 0       0    0  \n",
       "2                 0       0    0  \n",
       "3                 0       0    0  \n",
       "4                 1       1    0  "
      ],
      "text/html": [
       "<div>\n",
       "<style scoped>\n",
       "    .dataframe tbody tr th:only-of-type {\n",
       "        vertical-align: middle;\n",
       "    }\n",
       "\n",
       "    .dataframe tbody tr th {\n",
       "        vertical-align: top;\n",
       "    }\n",
       "\n",
       "    .dataframe thead th {\n",
       "        text-align: right;\n",
       "    }\n",
       "</style>\n",
       "<table border=\"1\" class=\"dataframe\">\n",
       "  <thead>\n",
       "    <tr style=\"text-align: right;\">\n",
       "      <th></th>\n",
       "      <th>experience_years</th>\n",
       "      <th>course_grades</th>\n",
       "      <th>projects_completed</th>\n",
       "      <th>extracurriculars</th>\n",
       "      <th>is_suitable</th>\n",
       "      <th>interview_performance</th>\n",
       "      <th>C++</th>\n",
       "      <th>Data Analysis</th>\n",
       "      <th>Java</th>\n",
       "      <th>Machine Learning</th>\n",
       "      <th>Python</th>\n",
       "      <th>SQL</th>\n",
       "    </tr>\n",
       "  </thead>\n",
       "  <tbody>\n",
       "    <tr>\n",
       "      <th>0</th>\n",
       "      <td>3</td>\n",
       "      <td>75.26</td>\n",
       "      <td>9</td>\n",
       "      <td>0</td>\n",
       "      <td>1</td>\n",
       "      <td>3.560162</td>\n",
       "      <td>0</td>\n",
       "      <td>1</td>\n",
       "      <td>0</td>\n",
       "      <td>0</td>\n",
       "      <td>1</td>\n",
       "      <td>1</td>\n",
       "    </tr>\n",
       "    <tr>\n",
       "      <th>1</th>\n",
       "      <td>4</td>\n",
       "      <td>74.25</td>\n",
       "      <td>6</td>\n",
       "      <td>2</td>\n",
       "      <td>1</td>\n",
       "      <td>3.831404</td>\n",
       "      <td>0</td>\n",
       "      <td>0</td>\n",
       "      <td>1</td>\n",
       "      <td>0</td>\n",
       "      <td>0</td>\n",
       "      <td>0</td>\n",
       "    </tr>\n",
       "    <tr>\n",
       "      <th>2</th>\n",
       "      <td>2</td>\n",
       "      <td>74.89</td>\n",
       "      <td>4</td>\n",
       "      <td>3</td>\n",
       "      <td>0</td>\n",
       "      <td>2.692920</td>\n",
       "      <td>0</td>\n",
       "      <td>1</td>\n",
       "      <td>0</td>\n",
       "      <td>0</td>\n",
       "      <td>0</td>\n",
       "      <td>0</td>\n",
       "    </tr>\n",
       "    <tr>\n",
       "      <th>3</th>\n",
       "      <td>4</td>\n",
       "      <td>72.73</td>\n",
       "      <td>2</td>\n",
       "      <td>3</td>\n",
       "      <td>1</td>\n",
       "      <td>3.277853</td>\n",
       "      <td>0</td>\n",
       "      <td>1</td>\n",
       "      <td>0</td>\n",
       "      <td>0</td>\n",
       "      <td>0</td>\n",
       "      <td>0</td>\n",
       "    </tr>\n",
       "    <tr>\n",
       "      <th>4</th>\n",
       "      <td>4</td>\n",
       "      <td>84.85</td>\n",
       "      <td>1</td>\n",
       "      <td>4</td>\n",
       "      <td>0</td>\n",
       "      <td>3.043286</td>\n",
       "      <td>1</td>\n",
       "      <td>0</td>\n",
       "      <td>0</td>\n",
       "      <td>1</td>\n",
       "      <td>1</td>\n",
       "      <td>0</td>\n",
       "    </tr>\n",
       "  </tbody>\n",
       "</table>\n",
       "</div>"
      ]
     },
     "execution_count": 98,
     "metadata": {},
     "output_type": "execute_result"
    }
   ],
   "execution_count": 98
  },
  {
   "metadata": {
    "ExecuteTime": {
     "end_time": "2024-12-07T01:56:49.815402Z",
     "start_time": "2024-12-07T01:56:49.797778Z"
    }
   },
   "cell_type": "code",
   "source": [
    "# Scaling the data\n",
    "from sklearn.preprocessing import MinMaxScaler\n",
    "numerical_features = ['experience_years','course_grades','projects_completed' ,'extracurriculars', 'interview_performance']\n",
    "scaler = MinMaxScaler()\n",
    "df[numerical_features] = scaler.fit_transform(df[numerical_features])\n",
    "df.head()"
   ],
   "id": "5c556b13103d3219",
   "outputs": [
    {
     "data": {
      "text/plain": [
       "   experience_years  course_grades  projects_completed  extracurriculars  \\\n",
       "0               0.6        0.38150            1.000000              0.00   \n",
       "1               0.8        0.35625            0.666667              0.50   \n",
       "2               0.4        0.37225            0.444444              0.75   \n",
       "3               0.8        0.31825            0.222222              0.75   \n",
       "4               0.8        0.62125            0.111111              1.00   \n",
       "\n",
       "   is_suitable  interview_performance  C++  Data Analysis  Java  \\\n",
       "0            1               0.642744    0              1     0   \n",
       "1            1               0.710046    0              0     1   \n",
       "2            0               0.427562    0              1     0   \n",
       "3            1               0.572697    0              1     0   \n",
       "4            0               0.514496    1              0     0   \n",
       "\n",
       "   Machine Learning  Python  SQL  \n",
       "0                 0       1    1  \n",
       "1                 0       0    0  \n",
       "2                 0       0    0  \n",
       "3                 0       0    0  \n",
       "4                 1       1    0  "
      ],
      "text/html": [
       "<div>\n",
       "<style scoped>\n",
       "    .dataframe tbody tr th:only-of-type {\n",
       "        vertical-align: middle;\n",
       "    }\n",
       "\n",
       "    .dataframe tbody tr th {\n",
       "        vertical-align: top;\n",
       "    }\n",
       "\n",
       "    .dataframe thead th {\n",
       "        text-align: right;\n",
       "    }\n",
       "</style>\n",
       "<table border=\"1\" class=\"dataframe\">\n",
       "  <thead>\n",
       "    <tr style=\"text-align: right;\">\n",
       "      <th></th>\n",
       "      <th>experience_years</th>\n",
       "      <th>course_grades</th>\n",
       "      <th>projects_completed</th>\n",
       "      <th>extracurriculars</th>\n",
       "      <th>is_suitable</th>\n",
       "      <th>interview_performance</th>\n",
       "      <th>C++</th>\n",
       "      <th>Data Analysis</th>\n",
       "      <th>Java</th>\n",
       "      <th>Machine Learning</th>\n",
       "      <th>Python</th>\n",
       "      <th>SQL</th>\n",
       "    </tr>\n",
       "  </thead>\n",
       "  <tbody>\n",
       "    <tr>\n",
       "      <th>0</th>\n",
       "      <td>0.6</td>\n",
       "      <td>0.38150</td>\n",
       "      <td>1.000000</td>\n",
       "      <td>0.00</td>\n",
       "      <td>1</td>\n",
       "      <td>0.642744</td>\n",
       "      <td>0</td>\n",
       "      <td>1</td>\n",
       "      <td>0</td>\n",
       "      <td>0</td>\n",
       "      <td>1</td>\n",
       "      <td>1</td>\n",
       "    </tr>\n",
       "    <tr>\n",
       "      <th>1</th>\n",
       "      <td>0.8</td>\n",
       "      <td>0.35625</td>\n",
       "      <td>0.666667</td>\n",
       "      <td>0.50</td>\n",
       "      <td>1</td>\n",
       "      <td>0.710046</td>\n",
       "      <td>0</td>\n",
       "      <td>0</td>\n",
       "      <td>1</td>\n",
       "      <td>0</td>\n",
       "      <td>0</td>\n",
       "      <td>0</td>\n",
       "    </tr>\n",
       "    <tr>\n",
       "      <th>2</th>\n",
       "      <td>0.4</td>\n",
       "      <td>0.37225</td>\n",
       "      <td>0.444444</td>\n",
       "      <td>0.75</td>\n",
       "      <td>0</td>\n",
       "      <td>0.427562</td>\n",
       "      <td>0</td>\n",
       "      <td>1</td>\n",
       "      <td>0</td>\n",
       "      <td>0</td>\n",
       "      <td>0</td>\n",
       "      <td>0</td>\n",
       "    </tr>\n",
       "    <tr>\n",
       "      <th>3</th>\n",
       "      <td>0.8</td>\n",
       "      <td>0.31825</td>\n",
       "      <td>0.222222</td>\n",
       "      <td>0.75</td>\n",
       "      <td>1</td>\n",
       "      <td>0.572697</td>\n",
       "      <td>0</td>\n",
       "      <td>1</td>\n",
       "      <td>0</td>\n",
       "      <td>0</td>\n",
       "      <td>0</td>\n",
       "      <td>0</td>\n",
       "    </tr>\n",
       "    <tr>\n",
       "      <th>4</th>\n",
       "      <td>0.8</td>\n",
       "      <td>0.62125</td>\n",
       "      <td>0.111111</td>\n",
       "      <td>1.00</td>\n",
       "      <td>0</td>\n",
       "      <td>0.514496</td>\n",
       "      <td>1</td>\n",
       "      <td>0</td>\n",
       "      <td>0</td>\n",
       "      <td>1</td>\n",
       "      <td>1</td>\n",
       "      <td>0</td>\n",
       "    </tr>\n",
       "  </tbody>\n",
       "</table>\n",
       "</div>"
      ]
     },
     "execution_count": 99,
     "metadata": {},
     "output_type": "execute_result"
    }
   ],
   "execution_count": 99
  },
  {
   "metadata": {
    "ExecuteTime": {
     "end_time": "2024-12-07T01:56:51.477463Z",
     "start_time": "2024-12-07T01:56:51.468347Z"
    }
   },
   "cell_type": "code",
   "source": [
    "# Splitting the data\n",
    "from sklearn.model_selection import train_test_split\n",
    "\n",
    "# Separate features and target\n",
    "X = df.drop('is_suitable', axis=1)\n",
    "y = df['is_suitable']\n",
    "\n",
    "# Split into train and test sets\n",
    "X_train, X_test, y_train, y_test = train_test_split(X, y, test_size=0.2,random_state=5)"
   ],
   "id": "1633273fde0a4ec1",
   "outputs": [],
   "execution_count": 100
  },
  {
   "metadata": {},
   "cell_type": "markdown",
   "source": "<h2>3. Train your neural network model :</h2>",
   "id": "e2737cff1b787853"
  },
  {
   "metadata": {
    "ExecuteTime": {
     "end_time": "2024-12-07T01:57:46.235824Z",
     "start_time": "2024-12-07T01:56:56.161567Z"
    }
   },
   "cell_type": "code",
   "source": [
    "import tensorflow as tf\n",
    "from tensorflow import keras\n",
    "model=keras.Sequential([\n",
    "    keras.layers.Dense(20, input_shape=(11,), activation='relu'),\n",
    "    keras.layers.Dense(1, activation='sigmoid')\n",
    "])\n",
    "\n",
    "model.compile(optimizer='adam',\n",
    "                loss='binary_crossentropy',\n",
    "                metrics=['accuracy'])\n",
    "\n",
    "model.fit(X_train, y_train, epochs=100)"
   ],
   "id": "2992ca6b14a943e8",
   "outputs": [
    {
     "name": "stdout",
     "output_type": "stream",
     "text": [
      "Epoch 1/100\n"
     ]
    },
    {
     "name": "stderr",
     "output_type": "stream",
     "text": [
      "C:\\Users\\Abdelrahman Mostafa\\AppData\\Roaming\\Python\\Python312\\site-packages\\keras\\src\\layers\\core\\dense.py:87: UserWarning: Do not pass an `input_shape`/`input_dim` argument to a layer. When using Sequential models, prefer using an `Input(shape)` object as the first layer in the model instead.\n",
      "  super().__init__(activity_regularizer=activity_regularizer, **kwargs)\n"
     ]
    },
    {
     "name": "stdout",
     "output_type": "stream",
     "text": [
      "\u001B[1m500/500\u001B[0m \u001B[32m━━━━━━━━━━━━━━━━━━━━\u001B[0m\u001B[37m\u001B[0m \u001B[1m1s\u001B[0m 971us/step - accuracy: 0.5134 - loss: 0.6944\n",
      "Epoch 2/100\n",
      "\u001B[1m500/500\u001B[0m \u001B[32m━━━━━━━━━━━━━━━━━━━━\u001B[0m\u001B[37m\u001B[0m \u001B[1m0s\u001B[0m 935us/step - accuracy: 0.6072 - loss: 0.6777\n",
      "Epoch 3/100\n",
      "\u001B[1m500/500\u001B[0m \u001B[32m━━━━━━━━━━━━━━━━━━━━\u001B[0m\u001B[37m\u001B[0m \u001B[1m0s\u001B[0m 911us/step - accuracy: 0.7047 - loss: 0.6560\n",
      "Epoch 4/100\n",
      "\u001B[1m500/500\u001B[0m \u001B[32m━━━━━━━━━━━━━━━━━━━━\u001B[0m\u001B[37m\u001B[0m \u001B[1m0s\u001B[0m 911us/step - accuracy: 0.7822 - loss: 0.6222\n",
      "Epoch 5/100\n",
      "\u001B[1m500/500\u001B[0m \u001B[32m━━━━━━━━━━━━━━━━━━━━\u001B[0m\u001B[37m\u001B[0m \u001B[1m0s\u001B[0m 944us/step - accuracy: 0.8449 - loss: 0.5780\n",
      "Epoch 6/100\n",
      "\u001B[1m500/500\u001B[0m \u001B[32m━━━━━━━━━━━━━━━━━━━━\u001B[0m\u001B[37m\u001B[0m \u001B[1m0s\u001B[0m 901us/step - accuracy: 0.8586 - loss: 0.5331\n",
      "Epoch 7/100\n",
      "\u001B[1m500/500\u001B[0m \u001B[32m━━━━━━━━━━━━━━━━━━━━\u001B[0m\u001B[37m\u001B[0m \u001B[1m0s\u001B[0m 903us/step - accuracy: 0.8663 - loss: 0.4862\n",
      "Epoch 8/100\n",
      "\u001B[1m500/500\u001B[0m \u001B[32m━━━━━━━━━━━━━━━━━━━━\u001B[0m\u001B[37m\u001B[0m \u001B[1m1s\u001B[0m 961us/step - accuracy: 0.8747 - loss: 0.4453\n",
      "Epoch 9/100\n",
      "\u001B[1m500/500\u001B[0m \u001B[32m━━━━━━━━━━━━━━━━━━━━\u001B[0m\u001B[37m\u001B[0m \u001B[1m0s\u001B[0m 908us/step - accuracy: 0.8768 - loss: 0.4065\n",
      "Epoch 10/100\n",
      "\u001B[1m500/500\u001B[0m \u001B[32m━━━━━━━━━━━━━━━━━━━━\u001B[0m\u001B[37m\u001B[0m \u001B[1m0s\u001B[0m 919us/step - accuracy: 0.8738 - loss: 0.3781\n",
      "Epoch 11/100\n",
      "\u001B[1m500/500\u001B[0m \u001B[32m━━━━━━━━━━━━━━━━━━━━\u001B[0m\u001B[37m\u001B[0m \u001B[1m0s\u001B[0m 927us/step - accuracy: 0.8710 - loss: 0.3542\n",
      "Epoch 12/100\n",
      "\u001B[1m500/500\u001B[0m \u001B[32m━━━━━━━━━━━━━━━━━━━━\u001B[0m\u001B[37m\u001B[0m \u001B[1m0s\u001B[0m 925us/step - accuracy: 0.8744 - loss: 0.3323\n",
      "Epoch 13/100\n",
      "\u001B[1m500/500\u001B[0m \u001B[32m━━━━━━━━━━━━━━━━━━━━\u001B[0m\u001B[37m\u001B[0m \u001B[1m0s\u001B[0m 930us/step - accuracy: 0.8721 - loss: 0.3159\n",
      "Epoch 14/100\n",
      "\u001B[1m500/500\u001B[0m \u001B[32m━━━━━━━━━━━━━━━━━━━━\u001B[0m\u001B[37m\u001B[0m \u001B[1m0s\u001B[0m 948us/step - accuracy: 0.8838 - loss: 0.2975\n",
      "Epoch 15/100\n",
      "\u001B[1m500/500\u001B[0m \u001B[32m━━━━━━━━━━━━━━━━━━━━\u001B[0m\u001B[37m\u001B[0m \u001B[1m0s\u001B[0m 918us/step - accuracy: 0.8763 - loss: 0.2927\n",
      "Epoch 16/100\n",
      "\u001B[1m500/500\u001B[0m \u001B[32m━━━━━━━━━━━━━━━━━━━━\u001B[0m\u001B[37m\u001B[0m \u001B[1m0s\u001B[0m 925us/step - accuracy: 0.8769 - loss: 0.2811\n",
      "Epoch 17/100\n",
      "\u001B[1m500/500\u001B[0m \u001B[32m━━━━━━━━━━━━━━━━━━━━\u001B[0m\u001B[37m\u001B[0m \u001B[1m0s\u001B[0m 922us/step - accuracy: 0.8726 - loss: 0.2722\n",
      "Epoch 18/100\n",
      "\u001B[1m500/500\u001B[0m \u001B[32m━━━━━━━━━━━━━━━━━━━━\u001B[0m\u001B[37m\u001B[0m \u001B[1m0s\u001B[0m 931us/step - accuracy: 0.8800 - loss: 0.2632\n",
      "Epoch 19/100\n",
      "\u001B[1m500/500\u001B[0m \u001B[32m━━━━━━━━━━━━━━━━━━━━\u001B[0m\u001B[37m\u001B[0m \u001B[1m0s\u001B[0m 924us/step - accuracy: 0.8747 - loss: 0.2610\n",
      "Epoch 20/100\n",
      "\u001B[1m500/500\u001B[0m \u001B[32m━━━━━━━━━━━━━━━━━━━━\u001B[0m\u001B[37m\u001B[0m \u001B[1m0s\u001B[0m 927us/step - accuracy: 0.8790 - loss: 0.2538\n",
      "Epoch 21/100\n",
      "\u001B[1m500/500\u001B[0m \u001B[32m━━━━━━━━━━━━━━━━━━━━\u001B[0m\u001B[37m\u001B[0m \u001B[1m0s\u001B[0m 923us/step - accuracy: 0.8745 - loss: 0.2517\n",
      "Epoch 22/100\n",
      "\u001B[1m500/500\u001B[0m \u001B[32m━━━━━━━━━━━━━━━━━━━━\u001B[0m\u001B[37m\u001B[0m \u001B[1m0s\u001B[0m 923us/step - accuracy: 0.8795 - loss: 0.2432\n",
      "Epoch 23/100\n",
      "\u001B[1m500/500\u001B[0m \u001B[32m━━━━━━━━━━━━━━━━━━━━\u001B[0m\u001B[37m\u001B[0m \u001B[1m0s\u001B[0m 917us/step - accuracy: 0.8749 - loss: 0.2463\n",
      "Epoch 24/100\n",
      "\u001B[1m500/500\u001B[0m \u001B[32m━━━━━━━━━━━━━━━━━━━━\u001B[0m\u001B[37m\u001B[0m \u001B[1m0s\u001B[0m 924us/step - accuracy: 0.8768 - loss: 0.2423\n",
      "Epoch 25/100\n",
      "\u001B[1m500/500\u001B[0m \u001B[32m━━━━━━━━━━━━━━━━━━━━\u001B[0m\u001B[37m\u001B[0m \u001B[1m0s\u001B[0m 929us/step - accuracy: 0.8780 - loss: 0.2394\n",
      "Epoch 26/100\n",
      "\u001B[1m500/500\u001B[0m \u001B[32m━━━━━━━━━━━━━━━━━━━━\u001B[0m\u001B[37m\u001B[0m \u001B[1m0s\u001B[0m 932us/step - accuracy: 0.8772 - loss: 0.2376\n",
      "Epoch 27/100\n",
      "\u001B[1m500/500\u001B[0m \u001B[32m━━━━━━━━━━━━━━━━━━━━\u001B[0m\u001B[37m\u001B[0m \u001B[1m0s\u001B[0m 932us/step - accuracy: 0.8769 - loss: 0.2368\n",
      "Epoch 28/100\n",
      "\u001B[1m500/500\u001B[0m \u001B[32m━━━━━━━━━━━━━━━━━━━━\u001B[0m\u001B[37m\u001B[0m \u001B[1m0s\u001B[0m 925us/step - accuracy: 0.8792 - loss: 0.2325\n",
      "Epoch 29/100\n",
      "\u001B[1m500/500\u001B[0m \u001B[32m━━━━━━━━━━━━━━━━━━━━\u001B[0m\u001B[37m\u001B[0m \u001B[1m0s\u001B[0m 928us/step - accuracy: 0.8758 - loss: 0.2328\n",
      "Epoch 30/100\n",
      "\u001B[1m500/500\u001B[0m \u001B[32m━━━━━━━━━━━━━━━━━━━━\u001B[0m\u001B[37m\u001B[0m \u001B[1m1s\u001B[0m 1ms/step - accuracy: 0.8794 - loss: 0.2310  \n",
      "Epoch 31/100\n",
      "\u001B[1m500/500\u001B[0m \u001B[32m━━━━━━━━━━━━━━━━━━━━\u001B[0m\u001B[37m\u001B[0m \u001B[1m0s\u001B[0m 937us/step - accuracy: 0.8772 - loss: 0.2263\n",
      "Epoch 32/100\n",
      "\u001B[1m500/500\u001B[0m \u001B[32m━━━━━━━━━━━━━━━━━━━━\u001B[0m\u001B[37m\u001B[0m \u001B[1m0s\u001B[0m 952us/step - accuracy: 0.8758 - loss: 0.2290\n",
      "Epoch 33/100\n",
      "\u001B[1m500/500\u001B[0m \u001B[32m━━━━━━━━━━━━━━━━━━━━\u001B[0m\u001B[37m\u001B[0m \u001B[1m0s\u001B[0m 883us/step - accuracy: 0.8744 - loss: 0.2310\n",
      "Epoch 34/100\n",
      "\u001B[1m500/500\u001B[0m \u001B[32m━━━━━━━━━━━━━━━━━━━━\u001B[0m\u001B[37m\u001B[0m \u001B[1m0s\u001B[0m 882us/step - accuracy: 0.8768 - loss: 0.2285\n",
      "Epoch 35/100\n",
      "\u001B[1m500/500\u001B[0m \u001B[32m━━━━━━━━━━━━━━━━━━━━\u001B[0m\u001B[37m\u001B[0m \u001B[1m0s\u001B[0m 886us/step - accuracy: 0.8780 - loss: 0.2285\n",
      "Epoch 36/100\n",
      "\u001B[1m500/500\u001B[0m \u001B[32m━━━━━━━━━━━━━━━━━━━━\u001B[0m\u001B[37m\u001B[0m \u001B[1m0s\u001B[0m 922us/step - accuracy: 0.8759 - loss: 0.2265\n",
      "Epoch 37/100\n",
      "\u001B[1m500/500\u001B[0m \u001B[32m━━━━━━━━━━━━━━━━━━━━\u001B[0m\u001B[37m\u001B[0m \u001B[1m0s\u001B[0m 925us/step - accuracy: 0.8755 - loss: 0.2261\n",
      "Epoch 38/100\n",
      "\u001B[1m500/500\u001B[0m \u001B[32m━━━━━━━━━━━━━━━━━━━━\u001B[0m\u001B[37m\u001B[0m \u001B[1m0s\u001B[0m 912us/step - accuracy: 0.8778 - loss: 0.2282\n",
      "Epoch 39/100\n",
      "\u001B[1m500/500\u001B[0m \u001B[32m━━━━━━━━━━━━━━━━━━━━\u001B[0m\u001B[37m\u001B[0m \u001B[1m0s\u001B[0m 893us/step - accuracy: 0.8753 - loss: 0.2272\n",
      "Epoch 40/100\n",
      "\u001B[1m500/500\u001B[0m \u001B[32m━━━━━━━━━━━━━━━━━━━━\u001B[0m\u001B[37m\u001B[0m \u001B[1m1s\u001B[0m 1ms/step - accuracy: 0.8726 - loss: 0.2266\n",
      "Epoch 41/100\n",
      "\u001B[1m500/500\u001B[0m \u001B[32m━━━━━━━━━━━━━━━━━━━━\u001B[0m\u001B[37m\u001B[0m \u001B[1m0s\u001B[0m 954us/step - accuracy: 0.8752 - loss: 0.2227\n",
      "Epoch 42/100\n",
      "\u001B[1m500/500\u001B[0m \u001B[32m━━━━━━━━━━━━━━━━━━━━\u001B[0m\u001B[37m\u001B[0m \u001B[1m0s\u001B[0m 918us/step - accuracy: 0.8793 - loss: 0.2224\n",
      "Epoch 43/100\n",
      "\u001B[1m500/500\u001B[0m \u001B[32m━━━━━━━━━━━━━━━━━━━━\u001B[0m\u001B[37m\u001B[0m \u001B[1m0s\u001B[0m 933us/step - accuracy: 0.8803 - loss: 0.2210\n",
      "Epoch 44/100\n",
      "\u001B[1m500/500\u001B[0m \u001B[32m━━━━━━━━━━━━━━━━━━━━\u001B[0m\u001B[37m\u001B[0m \u001B[1m0s\u001B[0m 921us/step - accuracy: 0.8729 - loss: 0.2246\n",
      "Epoch 45/100\n",
      "\u001B[1m500/500\u001B[0m \u001B[32m━━━━━━━━━━━━━━━━━━━━\u001B[0m\u001B[37m\u001B[0m \u001B[1m0s\u001B[0m 939us/step - accuracy: 0.8770 - loss: 0.2218\n",
      "Epoch 46/100\n",
      "\u001B[1m500/500\u001B[0m \u001B[32m━━━━━━━━━━━━━━━━━━━━\u001B[0m\u001B[37m\u001B[0m \u001B[1m0s\u001B[0m 929us/step - accuracy: 0.8774 - loss: 0.2217\n",
      "Epoch 47/100\n",
      "\u001B[1m500/500\u001B[0m \u001B[32m━━━━━━━━━━━━━━━━━━━━\u001B[0m\u001B[37m\u001B[0m \u001B[1m0s\u001B[0m 928us/step - accuracy: 0.8757 - loss: 0.2203\n",
      "Epoch 48/100\n",
      "\u001B[1m500/500\u001B[0m \u001B[32m━━━━━━━━━━━━━━━━━━━━\u001B[0m\u001B[37m\u001B[0m \u001B[1m0s\u001B[0m 928us/step - accuracy: 0.8750 - loss: 0.2191\n",
      "Epoch 49/100\n",
      "\u001B[1m500/500\u001B[0m \u001B[32m━━━━━━━━━━━━━━━━━━━━\u001B[0m\u001B[37m\u001B[0m \u001B[1m0s\u001B[0m 933us/step - accuracy: 0.8754 - loss: 0.2209\n",
      "Epoch 50/100\n",
      "\u001B[1m500/500\u001B[0m \u001B[32m━━━━━━━━━━━━━━━━━━━━\u001B[0m\u001B[37m\u001B[0m \u001B[1m0s\u001B[0m 929us/step - accuracy: 0.8767 - loss: 0.2197\n",
      "Epoch 51/100\n",
      "\u001B[1m500/500\u001B[0m \u001B[32m━━━━━━━━━━━━━━━━━━━━\u001B[0m\u001B[37m\u001B[0m \u001B[1m0s\u001B[0m 929us/step - accuracy: 0.8771 - loss: 0.2196\n",
      "Epoch 52/100\n",
      "\u001B[1m500/500\u001B[0m \u001B[32m━━━━━━━━━━━━━━━━━━━━\u001B[0m\u001B[37m\u001B[0m \u001B[1m0s\u001B[0m 944us/step - accuracy: 0.8750 - loss: 0.2188\n",
      "Epoch 53/100\n",
      "\u001B[1m500/500\u001B[0m \u001B[32m━━━━━━━━━━━━━━━━━━━━\u001B[0m\u001B[37m\u001B[0m \u001B[1m0s\u001B[0m 923us/step - accuracy: 0.8817 - loss: 0.2156\n",
      "Epoch 54/100\n",
      "\u001B[1m500/500\u001B[0m \u001B[32m━━━━━━━━━━━━━━━━━━━━\u001B[0m\u001B[37m\u001B[0m \u001B[1m0s\u001B[0m 922us/step - accuracy: 0.8747 - loss: 0.2204\n",
      "Epoch 55/100\n",
      "\u001B[1m500/500\u001B[0m \u001B[32m━━━━━━━━━━━━━━━━━━━━\u001B[0m\u001B[37m\u001B[0m \u001B[1m0s\u001B[0m 947us/step - accuracy: 0.8812 - loss: 0.2148\n",
      "Epoch 56/100\n",
      "\u001B[1m500/500\u001B[0m \u001B[32m━━━━━━━━━━━━━━━━━━━━\u001B[0m\u001B[37m\u001B[0m \u001B[1m0s\u001B[0m 922us/step - accuracy: 0.8736 - loss: 0.2215\n",
      "Epoch 57/100\n",
      "\u001B[1m500/500\u001B[0m \u001B[32m━━━━━━━━━━━━━━━━━━━━\u001B[0m\u001B[37m\u001B[0m \u001B[1m1s\u001B[0m 966us/step - accuracy: 0.8762 - loss: 0.2157\n",
      "Epoch 58/100\n",
      "\u001B[1m500/500\u001B[0m \u001B[32m━━━━━━━━━━━━━━━━━━━━\u001B[0m\u001B[37m\u001B[0m \u001B[1m0s\u001B[0m 936us/step - accuracy: 0.8827 - loss: 0.2125\n",
      "Epoch 59/100\n",
      "\u001B[1m500/500\u001B[0m \u001B[32m━━━━━━━━━━━━━━━━━━━━\u001B[0m\u001B[37m\u001B[0m \u001B[1m0s\u001B[0m 925us/step - accuracy: 0.8777 - loss: 0.2191\n",
      "Epoch 60/100\n",
      "\u001B[1m500/500\u001B[0m \u001B[32m━━━━━━━━━━━━━━━━━━━━\u001B[0m\u001B[37m\u001B[0m \u001B[1m0s\u001B[0m 934us/step - accuracy: 0.8770 - loss: 0.2184\n",
      "Epoch 61/100\n",
      "\u001B[1m500/500\u001B[0m \u001B[32m━━━━━━━━━━━━━━━━━━━━\u001B[0m\u001B[37m\u001B[0m \u001B[1m0s\u001B[0m 931us/step - accuracy: 0.8800 - loss: 0.2128\n",
      "Epoch 62/100\n",
      "\u001B[1m500/500\u001B[0m \u001B[32m━━━━━━━━━━━━━━━━━━━━\u001B[0m\u001B[37m\u001B[0m \u001B[1m0s\u001B[0m 918us/step - accuracy: 0.8711 - loss: 0.2244\n",
      "Epoch 63/100\n",
      "\u001B[1m500/500\u001B[0m \u001B[32m━━━━━━━━━━━━━━━━━━━━\u001B[0m\u001B[37m\u001B[0m \u001B[1m0s\u001B[0m 932us/step - accuracy: 0.8723 - loss: 0.2234\n",
      "Epoch 64/100\n",
      "\u001B[1m500/500\u001B[0m \u001B[32m━━━━━━━━━━━━━━━━━━━━\u001B[0m\u001B[37m\u001B[0m \u001B[1m0s\u001B[0m 926us/step - accuracy: 0.8732 - loss: 0.2199\n",
      "Epoch 65/100\n",
      "\u001B[1m500/500\u001B[0m \u001B[32m━━━━━━━━━━━━━━━━━━━━\u001B[0m\u001B[37m\u001B[0m \u001B[1m0s\u001B[0m 929us/step - accuracy: 0.8794 - loss: 0.2161\n",
      "Epoch 66/100\n",
      "\u001B[1m500/500\u001B[0m \u001B[32m━━━━━━━━━━━━━━━━━━━━\u001B[0m\u001B[37m\u001B[0m \u001B[1m0s\u001B[0m 932us/step - accuracy: 0.8807 - loss: 0.2148\n",
      "Epoch 67/100\n",
      "\u001B[1m500/500\u001B[0m \u001B[32m━━━━━━━━━━━━━━━━━━━━\u001B[0m\u001B[37m\u001B[0m \u001B[1m0s\u001B[0m 931us/step - accuracy: 0.8776 - loss: 0.2185\n",
      "Epoch 68/100\n",
      "\u001B[1m500/500\u001B[0m \u001B[32m━━━━━━━━━━━━━━━━━━━━\u001B[0m\u001B[37m\u001B[0m \u001B[1m0s\u001B[0m 938us/step - accuracy: 0.8769 - loss: 0.2154\n",
      "Epoch 69/100\n",
      "\u001B[1m500/500\u001B[0m \u001B[32m━━━━━━━━━━━━━━━━━━━━\u001B[0m\u001B[37m\u001B[0m \u001B[1m0s\u001B[0m 940us/step - accuracy: 0.8809 - loss: 0.2155\n",
      "Epoch 70/100\n",
      "\u001B[1m500/500\u001B[0m \u001B[32m━━━━━━━━━━━━━━━━━━━━\u001B[0m\u001B[37m\u001B[0m \u001B[1m0s\u001B[0m 929us/step - accuracy: 0.8850 - loss: 0.2090\n",
      "Epoch 71/100\n",
      "\u001B[1m500/500\u001B[0m \u001B[32m━━━━━━━━━━━━━━━━━━━━\u001B[0m\u001B[37m\u001B[0m \u001B[1m0s\u001B[0m 936us/step - accuracy: 0.8828 - loss: 0.2112\n",
      "Epoch 72/100\n",
      "\u001B[1m500/500\u001B[0m \u001B[32m━━━━━━━━━━━━━━━━━━━━\u001B[0m\u001B[37m\u001B[0m \u001B[1m0s\u001B[0m 931us/step - accuracy: 0.8777 - loss: 0.2179\n",
      "Epoch 73/100\n",
      "\u001B[1m500/500\u001B[0m \u001B[32m━━━━━━━━━━━━━━━━━━━━\u001B[0m\u001B[37m\u001B[0m \u001B[1m1s\u001B[0m 1ms/step - accuracy: 0.8812 - loss: 0.2090\n",
      "Epoch 74/100\n",
      "\u001B[1m500/500\u001B[0m \u001B[32m━━━━━━━━━━━━━━━━━━━━\u001B[0m\u001B[37m\u001B[0m \u001B[1m0s\u001B[0m 933us/step - accuracy: 0.8772 - loss: 0.2178\n",
      "Epoch 75/100\n",
      "\u001B[1m500/500\u001B[0m \u001B[32m━━━━━━━━━━━━━━━━━━━━\u001B[0m\u001B[37m\u001B[0m \u001B[1m0s\u001B[0m 928us/step - accuracy: 0.8783 - loss: 0.2156\n",
      "Epoch 76/100\n",
      "\u001B[1m500/500\u001B[0m \u001B[32m━━━━━━━━━━━━━━━━━━━━\u001B[0m\u001B[37m\u001B[0m \u001B[1m0s\u001B[0m 921us/step - accuracy: 0.8775 - loss: 0.2168\n",
      "Epoch 77/100\n",
      "\u001B[1m500/500\u001B[0m \u001B[32m━━━━━━━━━━━━━━━━━━━━\u001B[0m\u001B[37m\u001B[0m \u001B[1m0s\u001B[0m 923us/step - accuracy: 0.8750 - loss: 0.2177\n",
      "Epoch 78/100\n",
      "\u001B[1m500/500\u001B[0m \u001B[32m━━━━━━━━━━━━━━━━━━━━\u001B[0m\u001B[37m\u001B[0m \u001B[1m0s\u001B[0m 936us/step - accuracy: 0.8793 - loss: 0.2134\n",
      "Epoch 79/100\n",
      "\u001B[1m500/500\u001B[0m \u001B[32m━━━━━━━━━━━━━━━━━━━━\u001B[0m\u001B[37m\u001B[0m \u001B[1m0s\u001B[0m 944us/step - accuracy: 0.8776 - loss: 0.2165\n",
      "Epoch 80/100\n",
      "\u001B[1m500/500\u001B[0m \u001B[32m━━━━━━━━━━━━━━━━━━━━\u001B[0m\u001B[37m\u001B[0m \u001B[1m0s\u001B[0m 934us/step - accuracy: 0.8750 - loss: 0.2191\n",
      "Epoch 81/100\n",
      "\u001B[1m500/500\u001B[0m \u001B[32m━━━━━━━━━━━━━━━━━━━━\u001B[0m\u001B[37m\u001B[0m \u001B[1m1s\u001B[0m 970us/step - accuracy: 0.8744 - loss: 0.2189\n",
      "Epoch 82/100\n",
      "\u001B[1m500/500\u001B[0m \u001B[32m━━━━━━━━━━━━━━━━━━━━\u001B[0m\u001B[37m\u001B[0m \u001B[1m0s\u001B[0m 938us/step - accuracy: 0.8796 - loss: 0.2120\n",
      "Epoch 83/100\n",
      "\u001B[1m500/500\u001B[0m \u001B[32m━━━━━━━━━━━━━━━━━━━━\u001B[0m\u001B[37m\u001B[0m \u001B[1m0s\u001B[0m 948us/step - accuracy: 0.8749 - loss: 0.2180\n",
      "Epoch 84/100\n",
      "\u001B[1m500/500\u001B[0m \u001B[32m━━━━━━━━━━━━━━━━━━━━\u001B[0m\u001B[37m\u001B[0m \u001B[1m0s\u001B[0m 930us/step - accuracy: 0.8773 - loss: 0.2192\n",
      "Epoch 85/100\n",
      "\u001B[1m500/500\u001B[0m \u001B[32m━━━━━━━━━━━━━━━━━━━━\u001B[0m\u001B[37m\u001B[0m \u001B[1m0s\u001B[0m 930us/step - accuracy: 0.8815 - loss: 0.2138\n",
      "Epoch 86/100\n",
      "\u001B[1m500/500\u001B[0m \u001B[32m━━━━━━━━━━━━━━━━━━━━\u001B[0m\u001B[37m\u001B[0m \u001B[1m0s\u001B[0m 915us/step - accuracy: 0.8769 - loss: 0.2154\n",
      "Epoch 87/100\n",
      "\u001B[1m500/500\u001B[0m \u001B[32m━━━━━━━━━━━━━━━━━━━━\u001B[0m\u001B[37m\u001B[0m \u001B[1m0s\u001B[0m 930us/step - accuracy: 0.8768 - loss: 0.2156\n",
      "Epoch 88/100\n",
      "\u001B[1m500/500\u001B[0m \u001B[32m━━━━━━━━━━━━━━━━━━━━\u001B[0m\u001B[37m\u001B[0m \u001B[1m0s\u001B[0m 937us/step - accuracy: 0.8791 - loss: 0.2130\n",
      "Epoch 89/100\n",
      "\u001B[1m500/500\u001B[0m \u001B[32m━━━━━━━━━━━━━━━━━━━━\u001B[0m\u001B[37m\u001B[0m \u001B[1m0s\u001B[0m 929us/step - accuracy: 0.8807 - loss: 0.2132\n",
      "Epoch 90/100\n",
      "\u001B[1m500/500\u001B[0m \u001B[32m━━━━━━━━━━━━━━━━━━━━\u001B[0m\u001B[37m\u001B[0m \u001B[1m0s\u001B[0m 928us/step - accuracy: 0.8814 - loss: 0.2107\n",
      "Epoch 91/100\n",
      "\u001B[1m500/500\u001B[0m \u001B[32m━━━━━━━━━━━━━━━━━━━━\u001B[0m\u001B[37m\u001B[0m \u001B[1m1s\u001B[0m 957us/step - accuracy: 0.8755 - loss: 0.2173\n",
      "Epoch 92/100\n",
      "\u001B[1m500/500\u001B[0m \u001B[32m━━━━━━━━━━━━━━━━━━━━\u001B[0m\u001B[37m\u001B[0m \u001B[1m1s\u001B[0m 955us/step - accuracy: 0.8769 - loss: 0.2162\n",
      "Epoch 93/100\n",
      "\u001B[1m500/500\u001B[0m \u001B[32m━━━━━━━━━━━━━━━━━━━━\u001B[0m\u001B[37m\u001B[0m \u001B[1m1s\u001B[0m 956us/step - accuracy: 0.8752 - loss: 0.2184\n",
      "Epoch 94/100\n",
      "\u001B[1m500/500\u001B[0m \u001B[32m━━━━━━━━━━━━━━━━━━━━\u001B[0m\u001B[37m\u001B[0m \u001B[1m1s\u001B[0m 1ms/step - accuracy: 0.8839 - loss: 0.2094  \n",
      "Epoch 95/100\n",
      "\u001B[1m500/500\u001B[0m \u001B[32m━━━━━━━━━━━━━━━━━━━━\u001B[0m\u001B[37m\u001B[0m \u001B[1m1s\u001B[0m 958us/step - accuracy: 0.8734 - loss: 0.2188\n",
      "Epoch 96/100\n",
      "\u001B[1m500/500\u001B[0m \u001B[32m━━━━━━━━━━━━━━━━━━━━\u001B[0m\u001B[37m\u001B[0m \u001B[1m0s\u001B[0m 937us/step - accuracy: 0.8780 - loss: 0.2138\n",
      "Epoch 97/100\n",
      "\u001B[1m500/500\u001B[0m \u001B[32m━━━━━━━━━━━━━━━━━━━━\u001B[0m\u001B[37m\u001B[0m \u001B[1m0s\u001B[0m 925us/step - accuracy: 0.8773 - loss: 0.2141\n",
      "Epoch 98/100\n",
      "\u001B[1m500/500\u001B[0m \u001B[32m━━━━━━━━━━━━━━━━━━━━\u001B[0m\u001B[37m\u001B[0m \u001B[1m0s\u001B[0m 921us/step - accuracy: 0.8735 - loss: 0.2195\n",
      "Epoch 99/100\n",
      "\u001B[1m500/500\u001B[0m \u001B[32m━━━━━━━━━━━━━━━━━━━━\u001B[0m\u001B[37m\u001B[0m \u001B[1m0s\u001B[0m 916us/step - accuracy: 0.8760 - loss: 0.2180\n",
      "Epoch 100/100\n",
      "\u001B[1m500/500\u001B[0m \u001B[32m━━━━━━━━━━━━━━━━━━━━\u001B[0m\u001B[37m\u001B[0m \u001B[1m0s\u001B[0m 925us/step - accuracy: 0.8802 - loss: 0.2096\n"
     ]
    },
    {
     "data": {
      "text/plain": [
       "<keras.src.callbacks.history.History at 0x2595effc350>"
      ]
     },
     "execution_count": 101,
     "metadata": {},
     "output_type": "execute_result"
    }
   ],
   "execution_count": 101
  },
  {
   "metadata": {},
   "cell_type": "markdown",
   "source": "<h2>4. Apply modifications to the model (Deal with Weight Initialization) :</h2>",
   "id": "ed186d812eb7f38a"
  },
  {
   "metadata": {
    "ExecuteTime": {
     "end_time": "2024-12-07T01:58:24.228231Z",
     "start_time": "2024-12-07T01:58:03.291522Z"
    }
   },
   "cell_type": "code",
   "source": [
    "from tensorflow.keras.initializers import HeNormal, GlorotNormal\n",
    "input_shape = (X_train.shape[1],)\n",
    "model = keras.Sequential([\n",
    "        # Input layer\n",
    "        keras.layers.Dense(64,\n",
    "                    input_shape=input_shape,\n",
    "                    kernel_initializer=HeNormal(seed=42),\n",
    "                    activation='relu',\n",
    "                    name='input_layer'),\n",
    "\n",
    "        # Hidden layers with He initialization (good for ReLU)\n",
    "        keras.layers.Dense(32,\n",
    "                    kernel_initializer=HeNormal(seed=42),\n",
    "                    activation='relu',\n",
    "                    name='hidden_layer_1'),\n",
    "\n",
    "        keras.layers.Dropout(0.3),  # Prevent overfitting\n",
    "\n",
    "        keras.layers.Dense(16,\n",
    "                    kernel_initializer=HeNormal(seed=42),\n",
    "                    activation='relu',\n",
    "                    name='hidden_layer_2'),\n",
    "\n",
    "        # Output layer with Glorot/Xavier initialization (good for sigmoid)\n",
    "        keras.layers.Dense(1,\n",
    "                    kernel_initializer=GlorotNormal(seed=42),\n",
    "                    activation='sigmoid',\n",
    "                    name='output_layer')\n",
    "    ])\n",
    "# Compile with better learning rate\n",
    "optimizer = keras.optimizers.Adam(learning_rate=0.001)\n",
    "model.compile(optimizer=optimizer,\n",
    "             loss='binary_crossentropy',\n",
    "             metrics=['accuracy'])\n",
    "\n",
    "# Add early stopping to prevent overfitting\n",
    "early_stopping = keras.callbacks.EarlyStopping(\n",
    "    monitor='val_loss',\n",
    "    patience=10,\n",
    "    restore_best_weights=True\n",
    ")\n",
    "\n",
    "# Train the model with validation split\n",
    "history = model.fit(\n",
    "    X_train,\n",
    "    y_train,\n",
    "    epochs=100,\n",
    "    batch_size=32,\n",
    "    validation_split=0.2,\n",
    "    callbacks=[early_stopping],\n",
    "    verbose=1\n",
    ")"
   ],
   "id": "aff694e5baddc356",
   "outputs": [
    {
     "name": "stdout",
     "output_type": "stream",
     "text": [
      "Epoch 1/100\n"
     ]
    },
    {
     "name": "stderr",
     "output_type": "stream",
     "text": [
      "C:\\Users\\Abdelrahman Mostafa\\AppData\\Roaming\\Python\\Python312\\site-packages\\keras\\src\\layers\\core\\dense.py:87: UserWarning: Do not pass an `input_shape`/`input_dim` argument to a layer. When using Sequential models, prefer using an `Input(shape)` object as the first layer in the model instead.\n",
      "  super().__init__(activity_regularizer=activity_regularizer, **kwargs)\n"
     ]
    },
    {
     "name": "stdout",
     "output_type": "stream",
     "text": [
      "\u001B[1m400/400\u001B[0m \u001B[32m━━━━━━━━━━━━━━━━━━━━\u001B[0m\u001B[37m\u001B[0m \u001B[1m2s\u001B[0m 2ms/step - accuracy: 0.5184 - loss: 0.6992 - val_accuracy: 0.6037 - val_loss: 0.6767\n",
      "Epoch 2/100\n",
      "\u001B[1m400/400\u001B[0m \u001B[32m━━━━━━━━━━━━━━━━━━━━\u001B[0m\u001B[37m\u001B[0m \u001B[1m1s\u001B[0m 1ms/step - accuracy: 0.5995 - loss: 0.6643 - val_accuracy: 0.7456 - val_loss: 0.5318\n",
      "Epoch 3/100\n",
      "\u001B[1m400/400\u001B[0m \u001B[32m━━━━━━━━━━━━━━━━━━━━\u001B[0m\u001B[37m\u001B[0m \u001B[1m1s\u001B[0m 1ms/step - accuracy: 0.7805 - loss: 0.4849 - val_accuracy: 0.8641 - val_loss: 0.3167\n",
      "Epoch 4/100\n",
      "\u001B[1m400/400\u001B[0m \u001B[32m━━━━━━━━━━━━━━━━━━━━\u001B[0m\u001B[37m\u001B[0m \u001B[1m1s\u001B[0m 1ms/step - accuracy: 0.8424 - loss: 0.3408 - val_accuracy: 0.8700 - val_loss: 0.2692\n",
      "Epoch 5/100\n",
      "\u001B[1m400/400\u001B[0m \u001B[32m━━━━━━━━━━━━━━━━━━━━\u001B[0m\u001B[37m\u001B[0m \u001B[1m1s\u001B[0m 1ms/step - accuracy: 0.8599 - loss: 0.3098 - val_accuracy: 0.8616 - val_loss: 0.2803\n",
      "Epoch 6/100\n",
      "\u001B[1m400/400\u001B[0m \u001B[32m━━━━━━━━━━━━━━━━━━━━\u001B[0m\u001B[37m\u001B[0m \u001B[1m1s\u001B[0m 1ms/step - accuracy: 0.8625 - loss: 0.2966 - val_accuracy: 0.8700 - val_loss: 0.2882\n",
      "Epoch 7/100\n",
      "\u001B[1m400/400\u001B[0m \u001B[32m━━━━━━━━━━━━━━━━━━━━\u001B[0m\u001B[37m\u001B[0m \u001B[1m1s\u001B[0m 1ms/step - accuracy: 0.8655 - loss: 0.2775 - val_accuracy: 0.8647 - val_loss: 0.2732\n",
      "Epoch 8/100\n",
      "\u001B[1m400/400\u001B[0m \u001B[32m━━━━━━━━━━━━━━━━━━━━\u001B[0m\u001B[37m\u001B[0m \u001B[1m1s\u001B[0m 1ms/step - accuracy: 0.8611 - loss: 0.2889 - val_accuracy: 0.8797 - val_loss: 0.2536\n",
      "Epoch 9/100\n",
      "\u001B[1m400/400\u001B[0m \u001B[32m━━━━━━━━━━━━━━━━━━━━\u001B[0m\u001B[37m\u001B[0m \u001B[1m1s\u001B[0m 1ms/step - accuracy: 0.8739 - loss: 0.2635 - val_accuracy: 0.8709 - val_loss: 0.2396\n",
      "Epoch 10/100\n",
      "\u001B[1m400/400\u001B[0m \u001B[32m━━━━━━━━━━━━━━━━━━━━\u001B[0m\u001B[37m\u001B[0m \u001B[1m1s\u001B[0m 1ms/step - accuracy: 0.8764 - loss: 0.2588 - val_accuracy: 0.8637 - val_loss: 0.2638\n",
      "Epoch 11/100\n",
      "\u001B[1m400/400\u001B[0m \u001B[32m━━━━━━━━━━━━━━━━━━━━\u001B[0m\u001B[37m\u001B[0m \u001B[1m1s\u001B[0m 1ms/step - accuracy: 0.8757 - loss: 0.2611 - val_accuracy: 0.8687 - val_loss: 0.2785\n",
      "Epoch 12/100\n",
      "\u001B[1m400/400\u001B[0m \u001B[32m━━━━━━━━━━━━━━━━━━━━\u001B[0m\u001B[37m\u001B[0m \u001B[1m1s\u001B[0m 1ms/step - accuracy: 0.8676 - loss: 0.2632 - val_accuracy: 0.8734 - val_loss: 0.2401\n",
      "Epoch 13/100\n",
      "\u001B[1m400/400\u001B[0m \u001B[32m━━━━━━━━━━━━━━━━━━━━\u001B[0m\u001B[37m\u001B[0m \u001B[1m1s\u001B[0m 2ms/step - accuracy: 0.8741 - loss: 0.2558 - val_accuracy: 0.8753 - val_loss: 0.2385\n",
      "Epoch 14/100\n",
      "\u001B[1m400/400\u001B[0m \u001B[32m━━━━━━━━━━━━━━━━━━━━\u001B[0m\u001B[37m\u001B[0m \u001B[1m1s\u001B[0m 1ms/step - accuracy: 0.8696 - loss: 0.2608 - val_accuracy: 0.8694 - val_loss: 0.2384\n",
      "Epoch 15/100\n",
      "\u001B[1m400/400\u001B[0m \u001B[32m━━━━━━━━━━━━━━━━━━━━\u001B[0m\u001B[37m\u001B[0m \u001B[1m1s\u001B[0m 1ms/step - accuracy: 0.8775 - loss: 0.2504 - val_accuracy: 0.8744 - val_loss: 0.2305\n",
      "Epoch 16/100\n",
      "\u001B[1m400/400\u001B[0m \u001B[32m━━━━━━━━━━━━━━━━━━━━\u001B[0m\u001B[37m\u001B[0m \u001B[1m1s\u001B[0m 1ms/step - accuracy: 0.8820 - loss: 0.2420 - val_accuracy: 0.8734 - val_loss: 0.2369\n",
      "Epoch 17/100\n",
      "\u001B[1m400/400\u001B[0m \u001B[32m━━━━━━━━━━━━━━━━━━━━\u001B[0m\u001B[37m\u001B[0m \u001B[1m1s\u001B[0m 1ms/step - accuracy: 0.8722 - loss: 0.2514 - val_accuracy: 0.8694 - val_loss: 0.2534\n",
      "Epoch 18/100\n",
      "\u001B[1m400/400\u001B[0m \u001B[32m━━━━━━━━━━━━━━━━━━━━\u001B[0m\u001B[37m\u001B[0m \u001B[1m1s\u001B[0m 1ms/step - accuracy: 0.8789 - loss: 0.2446 - val_accuracy: 0.8697 - val_loss: 0.2352\n",
      "Epoch 19/100\n",
      "\u001B[1m400/400\u001B[0m \u001B[32m━━━━━━━━━━━━━━━━━━━━\u001B[0m\u001B[37m\u001B[0m \u001B[1m1s\u001B[0m 1ms/step - accuracy: 0.8739 - loss: 0.2509 - val_accuracy: 0.8781 - val_loss: 0.2594\n",
      "Epoch 20/100\n",
      "\u001B[1m400/400\u001B[0m \u001B[32m━━━━━━━━━━━━━━━━━━━━\u001B[0m\u001B[37m\u001B[0m \u001B[1m1s\u001B[0m 1ms/step - accuracy: 0.8854 - loss: 0.2315 - val_accuracy: 0.8719 - val_loss: 0.2388\n",
      "Epoch 21/100\n",
      "\u001B[1m400/400\u001B[0m \u001B[32m━━━━━━━━━━━━━━━━━━━━\u001B[0m\u001B[37m\u001B[0m \u001B[1m1s\u001B[0m 1ms/step - accuracy: 0.8801 - loss: 0.2368 - val_accuracy: 0.8781 - val_loss: 0.2310\n",
      "Epoch 22/100\n",
      "\u001B[1m400/400\u001B[0m \u001B[32m━━━━━━━━━━━━━━━━━━━━\u001B[0m\u001B[37m\u001B[0m \u001B[1m1s\u001B[0m 1ms/step - accuracy: 0.8771 - loss: 0.2377 - val_accuracy: 0.8741 - val_loss: 0.2298\n",
      "Epoch 23/100\n",
      "\u001B[1m400/400\u001B[0m \u001B[32m━━━━━━━━━━━━━━━━━━━━\u001B[0m\u001B[37m\u001B[0m \u001B[1m1s\u001B[0m 1ms/step - accuracy: 0.8804 - loss: 0.2362 - val_accuracy: 0.8691 - val_loss: 0.2988\n",
      "Epoch 24/100\n",
      "\u001B[1m400/400\u001B[0m \u001B[32m━━━━━━━━━━━━━━━━━━━━\u001B[0m\u001B[37m\u001B[0m \u001B[1m1s\u001B[0m 1ms/step - accuracy: 0.8776 - loss: 0.2453 - val_accuracy: 0.8791 - val_loss: 0.2246\n",
      "Epoch 25/100\n",
      "\u001B[1m400/400\u001B[0m \u001B[32m━━━━━━━━━━━━━━━━━━━━\u001B[0m\u001B[37m\u001B[0m \u001B[1m1s\u001B[0m 1ms/step - accuracy: 0.8847 - loss: 0.2331 - val_accuracy: 0.8712 - val_loss: 0.2293\n",
      "Epoch 26/100\n",
      "\u001B[1m400/400\u001B[0m \u001B[32m━━━━━━━━━━━━━━━━━━━━\u001B[0m\u001B[37m\u001B[0m \u001B[1m1s\u001B[0m 1ms/step - accuracy: 0.8801 - loss: 0.2292 - val_accuracy: 0.8753 - val_loss: 0.2266\n",
      "Epoch 27/100\n",
      "\u001B[1m400/400\u001B[0m \u001B[32m━━━━━━━━━━━━━━━━━━━━\u001B[0m\u001B[37m\u001B[0m \u001B[1m1s\u001B[0m 1ms/step - accuracy: 0.8852 - loss: 0.2281 - val_accuracy: 0.8728 - val_loss: 0.2290\n",
      "Epoch 28/100\n",
      "\u001B[1m400/400\u001B[0m \u001B[32m━━━━━━━━━━━━━━━━━━━━\u001B[0m\u001B[37m\u001B[0m \u001B[1m1s\u001B[0m 1ms/step - accuracy: 0.8795 - loss: 0.2295 - val_accuracy: 0.8766 - val_loss: 0.2261\n",
      "Epoch 29/100\n",
      "\u001B[1m400/400\u001B[0m \u001B[32m━━━━━━━━━━━━━━━━━━━━\u001B[0m\u001B[37m\u001B[0m \u001B[1m1s\u001B[0m 1ms/step - accuracy: 0.8807 - loss: 0.2332 - val_accuracy: 0.8700 - val_loss: 0.2685\n",
      "Epoch 30/100\n",
      "\u001B[1m400/400\u001B[0m \u001B[32m━━━━━━━━━━━━━━━━━━━━\u001B[0m\u001B[37m\u001B[0m \u001B[1m1s\u001B[0m 1ms/step - accuracy: 0.8857 - loss: 0.2277 - val_accuracy: 0.8759 - val_loss: 0.2264\n",
      "Epoch 31/100\n",
      "\u001B[1m400/400\u001B[0m \u001B[32m━━━━━━━━━━━━━━━━━━━━\u001B[0m\u001B[37m\u001B[0m \u001B[1m1s\u001B[0m 1ms/step - accuracy: 0.8815 - loss: 0.2369 - val_accuracy: 0.8728 - val_loss: 0.2400\n",
      "Epoch 32/100\n",
      "\u001B[1m400/400\u001B[0m \u001B[32m━━━━━━━━━━━━━━━━━━━━\u001B[0m\u001B[37m\u001B[0m \u001B[1m1s\u001B[0m 1ms/step - accuracy: 0.8828 - loss: 0.2272 - val_accuracy: 0.8734 - val_loss: 0.2325\n",
      "Epoch 33/100\n",
      "\u001B[1m400/400\u001B[0m \u001B[32m━━━━━━━━━━━━━━━━━━━━\u001B[0m\u001B[37m\u001B[0m \u001B[1m1s\u001B[0m 1ms/step - accuracy: 0.8835 - loss: 0.2251 - val_accuracy: 0.8678 - val_loss: 0.2331\n",
      "Epoch 34/100\n",
      "\u001B[1m400/400\u001B[0m \u001B[32m━━━━━━━━━━━━━━━━━━━━\u001B[0m\u001B[37m\u001B[0m \u001B[1m1s\u001B[0m 1ms/step - accuracy: 0.8812 - loss: 0.2302 - val_accuracy: 0.8797 - val_loss: 0.2438\n"
     ]
    }
   ],
   "execution_count": 102
  },
  {
   "metadata": {},
   "cell_type": "markdown",
   "source": "<h2>5. Evaluate your model on testing dataset :</h2>",
   "id": "3ea68f4192388e6b"
  },
  {
   "metadata": {
    "ExecuteTime": {
     "end_time": "2024-12-07T01:58:51.854283Z",
     "start_time": "2024-12-07T01:58:51.656915Z"
    }
   },
   "cell_type": "code",
   "source": [
    "# Evaluate the model\n",
    "test_loss, test_accuracy = model.evaluate(X_test, y_test)\n",
    "print(f\"\\nTest accuracy: {test_accuracy:.4f}\")"
   ],
   "id": "b8fb7e6c2cd5340f",
   "outputs": [
    {
     "name": "stdout",
     "output_type": "stream",
     "text": [
      "\u001B[1m125/125\u001B[0m \u001B[32m━━━━━━━━━━━━━━━━━━━━\u001B[0m\u001B[37m\u001B[0m \u001B[1m0s\u001B[0m 1ms/step - accuracy: 0.8750 - loss: 0.2379  \n",
      "\n",
      "Test accuracy: 0.8752\n"
     ]
    }
   ],
   "execution_count": 103
  },
  {
   "metadata": {},
   "cell_type": "markdown",
   "source": "<h2>6. Use the model to make predictions on unseen examples :</h2>",
   "id": "2f9b85a3fd46be2f"
  },
  {
   "metadata": {
    "ExecuteTime": {
     "end_time": "2024-12-07T01:59:07.905734Z",
     "start_time": "2024-12-07T01:59:07.684485Z"
    }
   },
   "cell_type": "code",
   "source": [
    "yp = model.predict(X_test)\n",
    "y_pred=[]\n",
    "for element in yp:\n",
    "    if element > 0.5:\n",
    "        y_pred.append(1)\n",
    "    else:\n",
    "        y_pred.append(0)\n",
    "\n",
    "y_pred[:10]"
   ],
   "id": "2f6a5013c36594e0",
   "outputs": [
    {
     "name": "stdout",
     "output_type": "stream",
     "text": [
      "\u001B[1m125/125\u001B[0m \u001B[32m━━━━━━━━━━━━━━━━━━━━\u001B[0m\u001B[37m\u001B[0m \u001B[1m0s\u001B[0m 768us/step\n"
     ]
    },
    {
     "data": {
      "text/plain": [
       "[1, 0, 1, 1, 1, 1, 1, 0, 0, 1]"
      ]
     },
     "execution_count": 104,
     "metadata": {},
     "output_type": "execute_result"
    }
   ],
   "execution_count": 104
  },
  {
   "metadata": {
    "ExecuteTime": {
     "end_time": "2024-12-07T01:59:10.988451Z",
     "start_time": "2024-12-07T01:59:10.983557Z"
    }
   },
   "cell_type": "code",
   "source": "y_test[:10]",
   "id": "d53ca4c8cdf2e24",
   "outputs": [
    {
     "data": {
      "text/plain": [
       "14456    1\n",
       "5536     0\n",
       "4029     1\n",
       "128      1\n",
       "14309    1\n",
       "7954     1\n",
       "3468     1\n",
       "1341     0\n",
       "6308     0\n",
       "6586     1\n",
       "Name: is_suitable, dtype: int64"
      ]
     },
     "execution_count": 105,
     "metadata": {},
     "output_type": "execute_result"
    }
   ],
   "execution_count": 105
  },
  {
   "metadata": {
    "ExecuteTime": {
     "end_time": "2024-12-07T01:59:17.019944Z",
     "start_time": "2024-12-07T01:59:17.004937Z"
    }
   },
   "cell_type": "code",
   "source": [
    "from sklearn.metrics import confusion_matrix , classification_report\n",
    "print(classification_report(y_test,y_pred))"
   ],
   "id": "236efdda3096e7f2",
   "outputs": [
    {
     "name": "stdout",
     "output_type": "stream",
     "text": [
      "              precision    recall  f1-score   support\n",
      "\n",
      "           0       0.87      0.88      0.88      2029\n",
      "           1       0.88      0.87      0.87      1971\n",
      "\n",
      "    accuracy                           0.88      4000\n",
      "   macro avg       0.88      0.88      0.88      4000\n",
      "weighted avg       0.88      0.88      0.88      4000\n",
      "\n"
     ]
    }
   ],
   "execution_count": 106
  },
  {
   "metadata": {
    "ExecuteTime": {
     "end_time": "2024-12-07T01:59:24.007373Z",
     "start_time": "2024-12-07T01:59:23.859531Z"
    }
   },
   "cell_type": "code",
   "source": [
    "import seaborn as sn\n",
    "cm = tf.math.confusion_matrix(labels=y_test,predictions=y_pred)\n",
    "\n",
    "plt.figure(figsize = (10,7))\n",
    "sn.heatmap(cm, annot=True, fmt='d')\n",
    "plt.xlabel('Predicted')\n",
    "plt.ylabel('Truth')"
   ],
   "id": "83cc00e376367f49",
   "outputs": [
    {
     "data": {
      "text/plain": [
       "Text(95.72222222222221, 0.5, 'Truth')"
      ]
     },
     "execution_count": 107,
     "metadata": {},
     "output_type": "execute_result"
    },
    {
     "data": {
      "text/plain": [
       "<Figure size 1000x700 with 2 Axes>"
      ],
      "image/png": "[encoded data removed]"
     },
     "metadata": {},
     "output_type": "display_data"
    }
   ],
   "execution_count": 107
  },
  {
   "metadata": {},
   "cell_type": "markdown",
   "source": "<h2>7. Do Feature Importance on your model :</h2>",
   "id": "7948b7ddef60fc82"
  },
  {
   "metadata": {
    "ExecuteTime": {
     "end_time": "2024-12-07T01:51:34.224335Z",
     "start_time": "2024-12-07T01:51:34.211057Z"
    }
   },
   "cell_type": "code",
   "source": [
    "# Get the weights of the model\n",
    "model_weights = model.get_weights()\n",
    "\n",
    "# Get the input layer weights\n",
    "\n",
    "input_layer_weights = model_weights[0]\n",
    "\n",
    "# Get the feature names\n",
    "feature_names = X.columns\n",
    "\n",
    "# Create a dataframe with feature names and weights\n",
    "feature_weights = pd.DataFrame(list(zip(feature_names, input_layer_weights.flatten())), columns=['feature', 'weight'])\n",
    "feature_weights = feature_weights.sort_values(by='weight', ascending=False)\n",
    "feature_weights"
   ],
   "id": "2f6c39ab4599c5f8",
   "outputs": [
    {
     "data": {
      "text/plain": [
       "                  feature    weight\n",
       "9                  Python  0.576512\n",
       "5                     C++  0.408173\n",
       "0        experience_years  0.241223\n",
       "3        extracurriculars  0.141835\n",
       "7                    Java  0.112028\n",
       "8        Machine Learning  0.052962\n",
       "4   interview_performance  0.032384\n",
       "10                    SQL -0.011928\n",
       "2      projects_completed -0.031660\n",
       "6           Data Analysis -0.150730\n",
       "1           course_grades -0.668375"
      ],
      "text/html": [
       "<div>\n",
       "<style scoped>\n",
       "    .dataframe tbody tr th:only-of-type {\n",
       "        vertical-align: middle;\n",
       "    }\n",
       "\n",
       "    .dataframe tbody tr th {\n",
       "        vertical-align: top;\n",
       "    }\n",
       "\n",
       "    .dataframe thead th {\n",
       "        text-align: right;\n",
       "    }\n",
       "</style>\n",
       "<table border=\"1\" class=\"dataframe\">\n",
       "  <thead>\n",
       "    <tr style=\"text-align: right;\">\n",
       "      <th></th>\n",
       "      <th>feature</th>\n",
       "      <th>weight</th>\n",
       "    </tr>\n",
       "  </thead>\n",
       "  <tbody>\n",
       "    <tr>\n",
       "      <th>9</th>\n",
       "      <td>Python</td>\n",
       "      <td>0.576512</td>\n",
       "    </tr>\n",
       "    <tr>\n",
       "      <th>5</th>\n",
       "      <td>C++</td>\n",
       "      <td>0.408173</td>\n",
       "    </tr>\n",
       "    <tr>\n",
       "      <th>0</th>\n",
       "      <td>experience_years</td>\n",
       "      <td>0.241223</td>\n",
       "    </tr>\n",
       "    <tr>\n",
       "      <th>3</th>\n",
       "      <td>extracurriculars</td>\n",
       "      <td>0.141835</td>\n",
       "    </tr>\n",
       "    <tr>\n",
       "      <th>7</th>\n",
       "      <td>Java</td>\n",
       "      <td>0.112028</td>\n",
       "    </tr>\n",
       "    <tr>\n",
       "      <th>8</th>\n",
       "      <td>Machine Learning</td>\n",
       "      <td>0.052962</td>\n",
       "    </tr>\n",
       "    <tr>\n",
       "      <th>4</th>\n",
       "      <td>interview_performance</td>\n",
       "      <td>0.032384</td>\n",
       "    </tr>\n",
       "    <tr>\n",
       "      <th>10</th>\n",
       "      <td>SQL</td>\n",
       "      <td>-0.011928</td>\n",
       "    </tr>\n",
       "    <tr>\n",
       "      <th>2</th>\n",
       "      <td>projects_completed</td>\n",
       "      <td>-0.031660</td>\n",
       "    </tr>\n",
       "    <tr>\n",
       "      <th>6</th>\n",
       "      <td>Data Analysis</td>\n",
       "      <td>-0.150730</td>\n",
       "    </tr>\n",
       "    <tr>\n",
       "      <th>1</th>\n",
       "      <td>course_grades</td>\n",
       "      <td>-0.668375</td>\n",
       "    </tr>\n",
       "  </tbody>\n",
       "</table>\n",
       "</div>"
      ]
     },
     "execution_count": 91,
     "metadata": {},
     "output_type": "execute_result"
    }
   ],
   "execution_count": 91
  },
  {
   "metadata": {},
   "cell_type": "markdown",
   "source": "<h2>8. Perform hyperparameter tuning and provide an explanation of the new results :</h2>",
   "id": "a4b10d59854bcf04"
  },
  {
   "metadata": {
    "ExecuteTime": {
     "end_time": "2024-12-07T01:28:58.247089Z",
     "start_time": "2024-12-07T01:28:58.221076Z"
    }
   },
   "cell_type": "code",
   "source": [
    "# Hyperparameter tuning\n",
    "from sklearn.model_selection import GridSearchCV\n",
    "from tensorflow.keras.wrappers.scikit_learn import KerasClassifier\n",
    "\n",
    "def create_model(optimizer='adam'):\n",
    "    model = keras.Sequential([\n",
    "        keras.layers.Dense(20, input_shape=(11,), activation='relu'),\n",
    "        keras.layers.Dense(1, activation='sigmoid')\n",
    "    ])\n",
    "    model.compile(optimizer=optimizer,\n",
    "                loss='binary_crossentropy',\n",
    "                metrics=['accuracy'])\n",
    "    return model\n",
    "\n",
    "model = KerasClassifier(build_fn=create_model, verbose=0)\n",
    "\n",
    "param_grid = {\n",
    "    'batch_size': [10, 20, 40],\n",
    "    'epochs': [50, 100],\n",
    "    'optimizer': ['adam', 'rmsprop']\n",
    "}\n",
    "\n",
    "grid = GridSearchCV(estimator=model, param_grid=param_grid, n_jobs=-1, cv=3)\n",
    "grid_result = grid.fit(X_train, y_train)\n",
    "\n",
    "# summarize results\n",
    "print(f\"Best: {grid_result.best_score_} using {grid_result.best_params_}\")\n",
    "means = grid_result.cv_results_['mean_test_score']\n",
    "stds = grid_result.cv_results_['std_test_score']\n",
    "params = grid_result.cv_results_['params']\n",
    "for mean, stdev, param in zip(means, stds, params):\n",
    "    print(f\"Mean: {mean}, Stdev: {stdev} with: {param}\")"
   ],
   "id": "75c025978bff24c4",
   "outputs": [
    {
     "ename": "ModuleNotFoundError",
     "evalue": "No module named 'tensorflow.keras.wrappers'",
     "output_type": "error",
     "traceback": [
      "\u001B[1;31m---------------------------------------------------------------------------\u001B[0m",
      "\u001B[1;31mModuleNotFoundError\u001B[0m                       Traceback (most recent call last)",
      "Cell \u001B[1;32mIn[53], line 3\u001B[0m\n\u001B[0;32m      1\u001B[0m \u001B[38;5;66;03m# Hyperparameter tuning\u001B[39;00m\n\u001B[0;32m      2\u001B[0m \u001B[38;5;28;01mfrom\u001B[39;00m \u001B[38;5;21;01msklearn\u001B[39;00m\u001B[38;5;21;01m.\u001B[39;00m\u001B[38;5;21;01mmodel_selection\u001B[39;00m \u001B[38;5;28;01mimport\u001B[39;00m GridSearchCV\n\u001B[1;32m----> 3\u001B[0m \u001B[38;5;28;01mfrom\u001B[39;00m \u001B[38;5;21;01mtensorflow\u001B[39;00m\u001B[38;5;21;01m.\u001B[39;00m\u001B[38;5;21;01mkeras\u001B[39;00m\u001B[38;5;21;01m.\u001B[39;00m\u001B[38;5;21;01mwrappers\u001B[39;00m\u001B[38;5;21;01m.\u001B[39;00m\u001B[38;5;21;01mscikit_learn\u001B[39;00m \u001B[38;5;28;01mimport\u001B[39;00m KerasClassifier\n\u001B[0;32m      5\u001B[0m \u001B[38;5;28;01mdef\u001B[39;00m \u001B[38;5;21mcreate_model\u001B[39m(optimizer\u001B[38;5;241m=\u001B[39m\u001B[38;5;124m'\u001B[39m\u001B[38;5;124madam\u001B[39m\u001B[38;5;124m'\u001B[39m):\n\u001B[0;32m      6\u001B[0m     model \u001B[38;5;241m=\u001B[39m keras\u001B[38;5;241m.\u001B[39mSequential([\n\u001B[0;32m      7\u001B[0m         keras\u001B[38;5;241m.\u001B[39mlayers\u001B[38;5;241m.\u001B[39mDense(\u001B[38;5;241m20\u001B[39m, input_shape\u001B[38;5;241m=\u001B[39m(\u001B[38;5;241m11\u001B[39m,), activation\u001B[38;5;241m=\u001B[39m\u001B[38;5;124m'\u001B[39m\u001B[38;5;124mrelu\u001B[39m\u001B[38;5;124m'\u001B[39m),\n\u001B[0;32m      8\u001B[0m         keras\u001B[38;5;241m.\u001B[39mlayers\u001B[38;5;241m.\u001B[39mDense(\u001B[38;5;241m1\u001B[39m, activation\u001B[38;5;241m=\u001B[39m\u001B[38;5;124m'\u001B[39m\u001B[38;5;124msigmoid\u001B[39m\u001B[38;5;124m'\u001B[39m)\n\u001B[0;32m      9\u001B[0m     ])\n",
      "\u001B[1;31mModuleNotFoundError\u001B[0m: No module named 'tensorflow.keras.wrappers'"
     ]
    }
   ],
   "execution_count": 53
  },
  {
   "metadata": {},
   "cell_type": "markdown",
   "source": "",
   "id": "4048738af75417fd"
  },
  {
   "metadata": {},
   "cell_type": "markdown",
   "source": "<h2>9. Visualize weights and biases after training :</h2>",
   "id": "2865dfc1b6745d29"
  },
  {
   "metadata": {
    "ExecuteTime": {
     "end_time": "2024-12-07T02:00:00.992987Z",
     "start_time": "2024-12-07T02:00:00.850386Z"
    }
   },
   "cell_type": "code",
   "source": [
    "# Get the weights of the model\n",
    "model_weights = model.get_weights()\n",
    "\n",
    "# Get the input layer weights\n",
    "input_layer_weights = model_weights[0]\n",
    "\n",
    "# Get the feature names\n",
    "feature_names = X.columns\n",
    "\n",
    "# Create a dataframe with feature names and weights\n",
    "feature_weights = pd.DataFrame(list(zip(feature_names, input_layer_weights.flatten())), columns=['feature', 'weight'])\n",
    "feature_weights = feature_weights.sort_values(by='weight', ascending=False)\n",
    "\n",
    "# Plot the weights\n",
    "plt.figure(figsize=(10, 6))\n",
    "plt.barh(feature_weights['feature'], feature_weights['weight'])\n",
    "plt.xlabel('Weight')\n",
    "plt.ylabel('Feature')\n",
    "plt.title('Input Layer Weights')\n",
    "plt.show()"
   ],
   "id": "5fe7d6cd1fb05388",
   "outputs": [
    {
     "data": {
      "text/plain": [
       "<Figure size 1000x600 with 1 Axes>"
      ],
      "image/png": "[encoded data removed]"
     },
     "metadata": {},
     "output_type": "display_data"
    }
   ],
   "execution_count": 108
  }
 ],
 "metadata": {
  "kernelspec": {
   "display_name": "Python 3",
   "language": "python",
   "name": "python3"
  },
  "language_info": {
   "codemirror_mode": {
    "name": "ipython",
    "version": 2
   },
   "file_extension": ".py",
   "mimetype": "text/x-python",
   "name": "python",
   "nbconvert_exporter": "python",
   "pygments_lexer": "ipython2",
   "version": "2.7.6"
  }
 },
 "nbformat": 4,
 "nbformat_minor": 5
}
